{
  "cells": [
    {
      "cell_type": "code",
      "execution_count": null,
      "metadata": {
        "id": "umSEirB6IF18",
        "outputId": "a46e75c0-1453-484b-f651-92b8e17459b7"
      },
      "outputs": [
        {
          "name": "stdout",
          "output_type": "stream",
          "text": [
            "1.2.2\n"
          ]
        }
      ],
      "source": [
        "import sklearn\n",
        "print(sklearn.__version__)\n"
      ]
    },
    {
      "cell_type": "code",
      "execution_count": 1,
      "metadata": {
        "id": "xD7UO-XnIF19"
      },
      "outputs": [],
      "source": [
        "import cv2\n",
        "import joblib\n",
        "import numpy as np\n",
        "\n",
        "# Load the trained models\n",
        "mbk_model = joblib.load('mbk_model_final.pkl')\n",
        "svm_model = joblib.load('svm_model_final.pkl')\n",
        "\n",
        "\n",
        "cam = cv2.VideoCapture(0)\n",
        "while True:\n",
        "    ret, frame = cam.read()\n",
        "    if not ret:\n",
        "        print(\"Failed to read frame from camera\")\n",
        "        break\n",
        "    frame = cv2.flip(frame, 1)\n",
        "    cv2.rectangle(frame, (319, 9), (620 + 1, 309), (0, 255, 0), 1)\n",
        "    roi = frame[10:300, 320:620]\n",
        "    \n",
        "    # cv2.imshow(\"Frame\", frame)\n",
        "    # des = extract_features(roi)\n",
        "    hsv = cv2.cvtColor(roi, cv2.COLOR_BGR2HSV)\n",
        "    lower_skin = np.array([0, 20, 70], dtype=np.uint8)\n",
        "    upper_skin = np.array([20, 255, 255], dtype=np.uint8)\n",
        "    mask = cv2.inRange(hsv, lower_skin, upper_skin)\n",
        "    kernel = cv2.getStructuringElement(cv2.MORPH_ELLIPSE, (7, 7))\n",
        "    mask = cv2.morphologyEx(mask, cv2.MORPH_OPEN, kernel)\n",
        "    result = cv2.bitwise_and(roi, roi, mask=mask)\n",
        "\n",
        "    # Convert image to grayscale\n",
        "    gray = cv2.cvtColor(result, cv2.COLOR_BGR2GRAY)\n",
        "\n",
        "    # Create SIFT object and find keypoints and descriptors\n",
        "    sift = cv2.SIFT_create()\n",
        "    kp, des = sift.detectAndCompute(gray, None)\n",
        "    # pred = mbk.predict(des)\n",
        "    # hist, _ = np.histogram(pred, bins=range(51))\n",
        "    # # y_pred = clf.predict(hist)\n",
        "    # y_pred = clf.predict(hist.reshape(1, -1))\n",
        "    if des is not None:\n",
        "        pred = mbk_model.predict(des)\n",
        "        hist, _ = np.histogram(pred, bins=range(51))\n",
        "        y_pred = svm_model.predict(hist.reshape(1, -1))\n",
        "        # print(str(y_pred[0]))\n",
        "        cv2.putText(frame, str(y_pred[0]), (10, 50), cv2.FONT_HERSHEY_COMPLEX, 1, (0, 255, 0), 1)\n",
        "        # cv2.putText(frame, y_pred, (10, 50), cv2.FONT_HERSHEY_COMPLEX, 1, (0, 255, 0), 1)\n",
        "\n",
        "        # print(alpha_dict[np.argmax(y_pred)])\n",
        "        # cv2.putText(frame,y_pred, (10, 50), cv2.FONT_HERSHEY_COMPLEX, 1, (0, 255, 0), 1)\n",
        "        # cv2.putText(frame, alpha_dict[np.argmax(y_pred)], (10, 50), cv2.FONT_HERSHEY_COMPLEX, 1, (0, 255, 0), 1)\n",
        "    cv2.imshow(\"Frame\", frame)\n",
        "    k = cv2.waitKey(50) & 0xFF\n",
        "    if k == 27:\n",
        "        break\n",
        "\n",
        "cam.release()\n",
        "cv2.destroyAllWindows()\n",
        "\n",
        "    "
      ]
    }
  ],
  "metadata": {
    "colab": {
      "provenance": []
    },
    "kernelspec": {
      "display_name": "Python 3",
      "name": "python3"
    },
    "language_info": {
      "codemirror_mode": {
        "name": "ipython",
        "version": 3
      },
      "file_extension": ".py",
      "mimetype": "text/x-python",
      "name": "python",
      "nbconvert_exporter": "python",
      "pygments_lexer": "ipython3",
      "version": "3.10.6"
    }
  },
  "nbformat": 4,
  "nbformat_minor": 0
}
